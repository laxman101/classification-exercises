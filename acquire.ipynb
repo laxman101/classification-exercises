{
 "cells": [
  {
   "cell_type": "markdown",
   "id": "66a7a4df",
   "metadata": {},
   "source": [
    "## acquire.py Functions"
   ]
  },
  {
   "cell_type": "code",
   "execution_count": 1,
   "id": "0bfa5409",
   "metadata": {},
   "outputs": [],
   "source": [
    "import pandas as pd\n",
    "import numpy as np\n",
    "import os\n",
    "from env import host, user, password"
   ]
  },
  {
   "cell_type": "markdown",
   "id": "60b9ce17",
   "metadata": {},
   "source": [
    "### Titanic Data"
   ]
  },
  {
   "cell_type": "code",
   "execution_count": 2,
   "id": "35c812f1",
   "metadata": {},
   "outputs": [],
   "source": [
    "def get_connection(db, user=user, host=host, password=password):\n",
    "    '''\n",
    "    This function uses my info from my env file to\n",
    "    create a connection url to access the Codeup db.\n",
    "    '''\n",
    "    return f'mysql+pymysql://{user}:{password}@{host}/{db}'"
   ]
  },
  {
   "cell_type": "code",
   "execution_count": 3,
   "id": "57e778b8",
   "metadata": {},
   "outputs": [],
   "source": [
    "def new_titanic_data():\n",
    "    '''\n",
    "    This function reads the titanic data from the Codeup db into a df.\n",
    "    '''\n",
    "    # Create SQL query.\n",
    "    sql_query = 'SELECT * FROM passengers'\n",
    "    \n",
    "    # Read in DataFrame from Codeup db.\n",
    "    df = pd.read_sql(sql_query, get_connection('titanic_db'))\n",
    "    \n",
    "    return df"
   ]
  },
  {
   "cell_type": "code",
   "execution_count": 13,
   "id": "a5eea9b5",
   "metadata": {},
   "outputs": [],
   "source": [
    "def get_titanic_data():\n",
    "    '''\n",
    "    This function reads in titanic data from Codeup database, writes data to\n",
    "    a csv file if a local file does not exist, and returns a df.\n",
    "    '''\n",
    "    if os.path.isfile('titanic.csv'):\n",
    "        \n",
    "        # If csv file exists, read in data from csv file.\n",
    "        df = pd.read_csv('titanic.csv', index_col=0)\n",
    "        \n",
    "    else:\n",
    "        \n",
    "        # Read fresh data from db into a DataFrame.\n",
    "        df = new_titanic_data()\n",
    "        \n",
    "        # Write DataFrame to a csv file.\n",
    "        df.to_csv('titanic.csv')\n",
    "        \n",
    "    return df"
   ]
  },
  {
   "cell_type": "markdown",
   "id": "99f810da",
   "metadata": {},
   "source": [
    "### Iris Data"
   ]
  },
  {
   "cell_type": "code",
   "execution_count": 5,
   "id": "d1f69ee7",
   "metadata": {},
   "outputs": [],
   "source": [
    "def new_iris_data():\n",
    "    '''\n",
    "    This function reads the iris data from the Codeup db into a df.\n",
    "    '''\n",
    "    sql_query = \"\"\"\n",
    "                SELECT \n",
    "                    species_id,\n",
    "                    species_name,\n",
    "                    sepal_length,\n",
    "                    sepal_width,\n",
    "                    petal_length,\n",
    "                    petal_width\n",
    "                FROM measurements\n",
    "                JOIN species USING(species_id)\n",
    "                \"\"\"\n",
    "    \n",
    "    # Read in DataFrame from Codeup db.\n",
    "    df = pd.read_sql(sql_query, get_connection('iris_db'))\n",
    "    \n",
    "    return df"
   ]
  },
  {
   "cell_type": "code",
   "execution_count": 6,
   "id": "2877f316",
   "metadata": {},
   "outputs": [],
   "source": [
    "def get_iris_data():\n",
    "    '''\n",
    "    This function reads in iris data from Codeup database, writes data to\n",
    "    a csv file if a local file does not exist, and returns a df.\n",
    "    '''\n",
    "    if os.path.isfile('iris.csv'):\n",
    "        \n",
    "        # If csv file exists read in data from csv file.\n",
    "        df = pd.read_csv('iris.csv', index_col=0)\n",
    "        \n",
    "    else:\n",
    "        \n",
    "        # Read fresh data from db into a DataFrame\n",
    "        df = new_iris_data()\n",
    "        \n",
    "        # Cache data\n",
    "        df.to_csv('iris.csv')\n",
    "        \n",
    "    return df"
   ]
  },
  {
   "cell_type": "markdown",
   "id": "7bca0b34",
   "metadata": {},
   "source": [
    "### Telco Data"
   ]
  },
  {
   "cell_type": "code",
   "execution_count": 8,
   "id": "ade55257",
   "metadata": {},
   "outputs": [],
   "source": [
    "def new_telco_data():\n",
    "    '''\n",
    "    This function reads the telco data from the Codeup db into a df.\n",
    "    '''\n",
    "    sql_query = \"\"\"\n",
    "                select * from customers\n",
    "                join contract_types using (contract_type_id)\n",
    "                join internet_service_types using (internet_service_type_id)\n",
    "                join payment_types using (payment_type_id)\n",
    "                \"\"\"\n",
    "    \n",
    "    # Read in DataFrame from Codeup db.\n",
    "    df = pd.read_sql(sql_query, get_connection('telco_churn'))\n",
    "    \n",
    "    return df"
   ]
  },
  {
   "cell_type": "code",
   "execution_count": 17,
   "id": "44cde2a7",
   "metadata": {},
   "outputs": [],
   "source": [
    "def get_telco_data():\n",
    "    '''\n",
    "    This function reads in telco data from Codeup database, writes data to\n",
    "    a csv file if a local file does not exist, and returns a df.\n",
    "    '''\n",
    "    if os.path.isfile('telco.csv'):\n",
    "        \n",
    "        # If csv file exists read in data from csv file.\n",
    "        df = pd.read_csv('telco.csv', index_col=0)\n",
    "        \n",
    "    else:\n",
    "        \n",
    "        # Read fresh data from db into a DataFrame\n",
    "        df = new_telco_data()\n",
    "        \n",
    "        # Cache data\n",
    "        df.to_csv('telco.csv')\n",
    "        \n",
    "    return df"
   ]
  },
  {
   "cell_type": "code",
   "execution_count": null,
   "id": "3aef3753",
   "metadata": {},
   "outputs": [],
   "source": []
  }
 ],
 "metadata": {
  "kernelspec": {
   "display_name": "Python 3",
   "language": "python",
   "name": "python3"
  },
  "language_info": {
   "codemirror_mode": {
    "name": "ipython",
    "version": 3
   },
   "file_extension": ".py",
   "mimetype": "text/x-python",
   "name": "python",
   "nbconvert_exporter": "python",
   "pygments_lexer": "ipython3",
   "version": "3.8.8"
  }
 },
 "nbformat": 4,
 "nbformat_minor": 5
}
